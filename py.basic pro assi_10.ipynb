{
 "cells": [
  {
   "cell_type": "code",
   "execution_count": 4,
   "metadata": {},
   "outputs": [
    {
     "name": "stdout",
     "output_type": "stream",
     "text": [
      "284\n"
     ]
    }
   ],
   "source": [
    "#1. Write a Python program to find sum of elements in list?\n",
    "l=[1,2,3,4,5,6,12,45,78,96,32]\n",
    "m=0\n",
    "for i in l:\n",
    "    m+=i\n",
    "print(m)    "
   ]
  },
  {
   "cell_type": "code",
   "execution_count": 13,
   "metadata": {},
   "outputs": [
    {
     "name": "stdout",
     "output_type": "stream",
     "text": [
      "63941567555174400\n"
     ]
    }
   ],
   "source": [
    "#2. Write a Python program to Multiply all numbers in the list?\n",
    "l=[1,5,9,7,8,3,4,5,6,56,23,32,12,21,78,87]\n",
    "m=1\n",
    "for i in l:\n",
    "    m*=i\n",
    "print(m)"
   ]
  },
  {
   "cell_type": "code",
   "execution_count": 17,
   "metadata": {},
   "outputs": [
    {
     "name": "stdout",
     "output_type": "stream",
     "text": [
      "the smallest number is: 7\n"
     ]
    }
   ],
   "source": [
    "#3. Write a Python program to find smallest number in a list?\n",
    "l=[12,45,78,96,78,89,20,30,40,50,78,7,98,82,83]\n",
    "for i in l:\n",
    "    print(\"the smallest number is:\",min(l))\n",
    "    break"
   ]
  },
  {
   "cell_type": "code",
   "execution_count": 19,
   "metadata": {},
   "outputs": [
    {
     "name": "stdout",
     "output_type": "stream",
     "text": [
      "the largest no. is: 189\n"
     ]
    }
   ],
   "source": [
    "#4. Write a Python program to find largest number in a list?\n",
    "l=[1,45,41,52,32,12,53,62,51,42,43,20,30,78,98,88,100,105,166,189]\n",
    "for i in l:\n",
    "    print(\"the largest no. is:\",max(l))\n",
    "    break"
   ]
  },
  {
   "cell_type": "code",
   "execution_count": 23,
   "metadata": {},
   "outputs": [
    {
     "name": "stdout",
     "output_type": "stream",
     "text": [
      "second last element of list is: 166\n"
     ]
    }
   ],
   "source": [
    "#5. Write a Python program to find second largest number in a list?\n",
    "l=[1,45,41,52,32,12,53,62,51,42,43,20,30,78,98,88,100,105,166,189]\n",
    "for i in l:\n",
    "    l.sort()\n",
    "    print(\"second last element of list is:\",l[-2])\n",
    "    break"
   ]
  },
  {
   "cell_type": "code",
   "execution_count": 27,
   "metadata": {},
   "outputs": [
    {
     "name": "stdout",
     "output_type": "stream",
     "text": [
      "[189, 166, 105]\n"
     ]
    }
   ],
   "source": [
    "#6. Write a Python program to find N largest elements from a list?\n",
    "l=[1,45,41,52,32,12,53,62,51,42,43,20,30,78,98,88,100,105,166,189]\n",
    "def max_finder(lst,N):\n",
    "    result_lst=list()\n",
    "    while N >0:\n",
    "        max_value=max(lst)\n",
    "        result_lst.append(max_value)\n",
    "        lst.remove(max_value)\n",
    "        N-=1\n",
    "    return result_lst\n",
    "print(max_finder(l,3))\n",
    "        \n",
    "        "
   ]
  },
  {
   "cell_type": "code",
   "execution_count": 33,
   "metadata": {},
   "outputs": [
    {
     "name": "stdout",
     "output_type": "stream",
     "text": [
      "[52, 32, 12, 62, 42, 20, 30, 78, 98, 88, 100, 166]\n"
     ]
    }
   ],
   "source": [
    "#7. Write a Python program to print even numbers in a list?\n",
    "l=[1,45,41,52,32,12,53,62,51,42,43,20,30,78,98,88,100,105,166,189]\n",
    "m=[]\n",
    "for i in l:\n",
    "    if i%2==0:\n",
    "        m.append(i)\n",
    "print(m)"
   ]
  },
  {
   "cell_type": "code",
   "execution_count": 35,
   "metadata": {},
   "outputs": [
    {
     "name": "stdout",
     "output_type": "stream",
     "text": [
      "[1, 3, 5, 7, 9, 13, 17, 19, 21, 23]\n"
     ]
    }
   ],
   "source": [
    "#8. Write a Python program to print odd numbers in a List?\n",
    "l=[1,3,5,7,9,13,17,19,21,23,20,30,12,52,62,92,44,46,48,58,64,94]\n",
    "m=[]\n",
    "for i in l:\n",
    "    if i%2!=0:\n",
    "        m.append(i)\n",
    "print(m)\n",
    "    "
   ]
  },
  {
   "cell_type": "code",
   "execution_count": 37,
   "metadata": {},
   "outputs": [
    {
     "name": "stdout",
     "output_type": "stream",
     "text": [
      "[[12, 4, 5, 45, 7], ['manya', 'sonya', 'paltan'], 12, 'nmj', 45, 78, 94, 12]\n"
     ]
    }
   ],
   "source": [
    "#9. Write a Python program to Remove empty List from List?\n",
    "l=[[12,4,5,45,7],[\"manya\",\"sonya\",\"paltan\"],[],12,\"nmj\",45,78,94,12]\n",
    "for i in l:\n",
    "    if type(i)==list:\n",
    "        if len(i)==0:\n",
    "            l.remove(i)\n",
    "print(l)"
   ]
  },
  {
   "cell_type": "code",
   "execution_count": 38,
   "metadata": {},
   "outputs": [
    {
     "name": "stdout",
     "output_type": "stream",
     "text": [
      "[[[12, 4, 5, 45, 7], ['manya', 'sonya', 'paltan'], [], 12, 'nmj', 45, 78, 94, 12]]\n"
     ]
    }
   ],
   "source": [
    "#10. Write a Python program to Cloning or Copying a list?\n",
    "l=[[12,4,5,45,7],[\"manya\",\"sonya\",\"paltan\"],[],12,\"nmj\",45,78,94,12]\n",
    "m=[]\n",
    "k=l.copy()\n",
    "m.append(k)\n",
    "print(m)"
   ]
  },
  {
   "cell_type": "code",
   "execution_count": 43,
   "metadata": {},
   "outputs": [
    {
     "data": {
      "text/plain": [
       "5"
      ]
     },
     "execution_count": 43,
     "metadata": {},
     "output_type": "execute_result"
    }
   ],
   "source": [
    "#11. Write a Python program to Count occurrences of an element in a list?\n",
    "l=[1,3,5,7,9,13,17,19,21,23,20,30,12,52,62,92,3,3,3,48,58,64,94,3,5,7,9,2,20,30,40]\n",
    "def countx(lst,x):\n",
    "    return lst.count(x)\n",
    "countx(l,3)"
   ]
  },
  {
   "cell_type": "code",
   "execution_count": null,
   "metadata": {},
   "outputs": [],
   "source": []
  }
 ],
 "metadata": {
  "kernelspec": {
   "display_name": "Python 3",
   "language": "python",
   "name": "python3"
  },
  "language_info": {
   "codemirror_mode": {
    "name": "ipython",
    "version": 3
   },
   "file_extension": ".py",
   "mimetype": "text/x-python",
   "name": "python",
   "nbconvert_exporter": "python",
   "pygments_lexer": "ipython3",
   "version": "3.8.5"
  }
 },
 "nbformat": 4,
 "nbformat_minor": 4
}
