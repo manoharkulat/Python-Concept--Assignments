{
 "cells": [
  {
   "cell_type": "code",
   "execution_count": null,
   "metadata": {},
   "outputs": [],
   "source": [
    "\"\"\"1. Create a list called years_list, starting with the year of your birth, and each year thereafter until\n",
    "the year of your fifth birthday. For example, if you were born in 1980. the list would be years_list =\n",
    "[1980, 1981, 1982, 1983, 1984, 1985].\"\"\"\n",
    "#Solution1:\n",
    "year_list=[1997,1998,1999,2000,2001,2002]\n",
    "\n",
    "\"\"\"2. In which year in years_list was your third birthday? Remember, you were 0 years of age for your\n",
    "first year.\"\"\"\n",
    "#solution2: 2000\n",
    "\n",
    "\"\"\"3.In the years list, which year were you the oldest?\"\"\"\n",
    "#solution3: 1997\n",
    "\n",
    "#4. Make a list called things with these three strings as elements: \"mozzarella\",\"cinderella\",\n",
    "#\"salmonella\".\n",
    "#Solution4: \n",
    "things=[\"mozzarella\",\"cinderella\",\"salmonella\"]\n"
   ]
  },
  {
   "cell_type": "code",
   "execution_count": 7,
   "metadata": {},
   "outputs": [
    {
     "data": {
      "text/plain": [
       "['MOZZARELLA', 'CINDERELLA', 'SALMONELLA']"
      ]
     },
     "execution_count": 7,
     "metadata": {},
     "output_type": "execute_result"
    }
   ],
   "source": [
    "\"\"\"5. Capitalize the element in things that refers to a person and then print the list. Did it change the\n",
    "element in the list?\"\"\"\n",
    "#solution5: \n",
    "things=[\"mozzarella\",\"cinderella\",\"salmonella\"]\n",
    "C=[]\n",
    "for i in things:\n",
    "    A=i.upper()\n",
    "    C.append(A)\n",
    "C\n"
   ]
  },
  {
   "cell_type": "code",
   "execution_count": null,
   "metadata": {},
   "outputs": [],
   "source": [
    "#6. Make a surprise list with the elements 'Groucho','Chico' and 'Harpo'.\n",
    "#Solution6:\n",
    "surprise=[\"Groucho\",\"Chico\",\"Harpo\"]"
   ]
  },
  {
   "cell_type": "code",
   "execution_count": 1,
   "metadata": {},
   "outputs": [
    {
     "data": {
      "text/plain": [
       "'HARPO'"
      ]
     },
     "execution_count": 1,
     "metadata": {},
     "output_type": "execute_result"
    }
   ],
   "source": [
    "#7. Lowercase the last element of the surprise list, reverse it, and then capitalize it.\n",
    "#Solution7:\n",
    "surprise=[\"Groucho\",\"Chico\",\"Harpo\"]\n",
    "k=surprise[-1]\n",
    "k.lower()\n",
    "k[::-1]\n",
    "k.upper()\n",
    "\n",
    "    \n",
    "    \n",
    "\n",
    "\n"
   ]
  },
  {
   "cell_type": "code",
   "execution_count": null,
   "metadata": {},
   "outputs": [],
   "source": [
    "\"\"\"8. Make an English-to-French dictionary called e2f and print it. Here are your starter words: dog is\n",
    "chien, cat is chat, and walrus is morse.\"\"\"\n",
    "#Solution8:\n",
    "e2f={\"dog\":\"chien\",\"cat\":\"chat\",\"walrus\":\"morse\"}\n",
    "\n",
    "#9. Write the French word for walrus in your three-word dictionary e2f.\n",
    "#Solution9: morse\n",
    "\n"
   ]
  },
  {
   "cell_type": "code",
   "execution_count": 24,
   "metadata": {},
   "outputs": [
    {
     "name": "stdout",
     "output_type": "stream",
     "text": [
      "{'chien': 'dog', 'chat': 'cat', 'morse': 'walrus'}\n"
     ]
    }
   ],
   "source": [
    "#10. Make a French-to-English dictionary called f2e from e2f. Use the items method.\n",
    "#Solution10:\n",
    "\n",
    "e2f={\"dog\":\"chien\",\"cat\":\"chat\",\"walrus\":\"morse\"}\n",
    "f2e={value:key for key,value in e2f.items()}\n",
    "print(f2e)"
   ]
  },
  {
   "cell_type": "code",
   "execution_count": 26,
   "metadata": {},
   "outputs": [
    {
     "data": {
      "text/plain": [
       "'dog'"
      ]
     },
     "execution_count": 26,
     "metadata": {},
     "output_type": "execute_result"
    }
   ],
   "source": [
    "#11. Print the English version of the French word chien using f2e.\n",
    "#Solution11:\n",
    "f2e={'chien':'dog','chat':'cat','morse':'walrus'}\n",
    "f2e['chien']"
   ]
  },
  {
   "cell_type": "code",
   "execution_count": 2,
   "metadata": {},
   "outputs": [
    {
     "name": "stdout",
     "output_type": "stream",
     "text": [
      "{'o', 'd', 'g'}\n",
      "{'c', 't', 'a'}\n",
      "{'l', 'r', 's', 'w', 'u', 'a'}\n"
     ]
    }
   ],
   "source": [
    "#12. Make and print a set of English words from the keys in e2f.\n",
    "#Solution12:\n",
    "e2f={\"dog\":\"chien\",\"cat\":\"chat\",\"walrus\":\"morse\"}\n",
    "for i in e2f:\n",
    "    s=set(i)\n",
    "    print(s)\n",
    "\n",
    "\n"
   ]
  },
  {
   "cell_type": "code",
   "execution_count": 1,
   "metadata": {},
   "outputs": [],
   "source": [
    "#13. Make a multilevel dictionary called life. Use these strings for the topmost keys:'animals', 'plants',\n",
    "#and 'other'. Make the 'animals' key refer to another dictionary with the keys 'cats','octopi', and\n",
    "#'emus'. Make the 'cats' key refer to a list of strings with the values 'Henri','Grumpy', and 'Lucy'.\n",
    "#Make all the other keys refer to empty dictionaries.\n",
    "life={'animal':{'cats':['Henri','Grumpy','Lucy'],'octopi':{},'emus':{}},'plants':{},'other':{}}\n"
   ]
  },
  {
   "cell_type": "code",
   "execution_count": 2,
   "metadata": {},
   "outputs": [
    {
     "name": "stdout",
     "output_type": "stream",
     "text": [
      "animal\n",
      "plants\n",
      "other\n"
     ]
    }
   ],
   "source": [
    "#14. Print the top-level keys of life.\n",
    "#Solution14:\n",
    "for i in life:\n",
    "    print(i)"
   ]
  },
  {
   "cell_type": "code",
   "execution_count": 14,
   "metadata": {},
   "outputs": [
    {
     "name": "stdout",
     "output_type": "stream",
     "text": [
      "cats\n",
      "octopi\n",
      "emus\n",
      "cats\n",
      "octopi\n",
      "emus\n",
      "cats\n",
      "octopi\n",
      "emus\n"
     ]
    }
   ],
   "source": [
    "#15. Print the keys for life['animals'].\n",
    "#Solution15:\n",
    "for i in life.keys():\n",
    "    for p in life['animal']:\n",
    "        print(p)\n",
    "        "
   ]
  },
  {
   "cell_type": "code",
   "execution_count": 17,
   "metadata": {},
   "outputs": [
    {
     "name": "stdout",
     "output_type": "stream",
     "text": [
      "Henri\n",
      "Grumpy\n",
      "Lucy\n",
      "Henri\n",
      "Grumpy\n",
      "Lucy\n",
      "Henri\n",
      "Grumpy\n",
      "Lucy\n"
     ]
    }
   ],
   "source": [
    "#16. Print the values for life['animals']['cats']\n",
    "#Solution16:\n",
    "for i in life.keys():\n",
    "    for p in life['animal']['cats']:\n",
    "        print(p)"
   ]
  },
  {
   "cell_type": "code",
   "execution_count": null,
   "metadata": {},
   "outputs": [],
   "source": []
  }
 ],
 "metadata": {
  "kernelspec": {
   "display_name": "Python 3",
   "language": "python",
   "name": "python3"
  },
  "language_info": {
   "codemirror_mode": {
    "name": "ipython",
    "version": 3
   },
   "file_extension": ".py",
   "mimetype": "text/x-python",
   "name": "python",
   "nbconvert_exporter": "python",
   "pygments_lexer": "ipython3",
   "version": "3.8.5"
  }
 },
 "nbformat": 4,
 "nbformat_minor": 4
}
