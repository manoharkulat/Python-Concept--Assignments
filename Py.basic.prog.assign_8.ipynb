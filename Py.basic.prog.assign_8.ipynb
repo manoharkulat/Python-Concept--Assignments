{
 "cells": [
  {
   "cell_type": "code",
   "execution_count": 14,
   "metadata": {},
   "outputs": [],
   "source": [
    "import numpy as np"
   ]
  },
  {
   "cell_type": "code",
   "execution_count": 15,
   "metadata": {},
   "outputs": [
    {
     "data": {
      "text/plain": [
       "matrix([[12, 12],\n",
       "        [19, 24]])"
      ]
     },
     "execution_count": 15,
     "metadata": {},
     "output_type": "execute_result"
    }
   ],
   "source": [
    "#1. Write a Python Program to Add Two Matrices?\n",
    "def matadd(arr1,arr2):\n",
    "    return arr1+arr2\n",
    "arr1=np.mat([[1,2],[5,8]])\n",
    "arr2=np.mat([[11,10],[14,16]])\n",
    "matadd(arr1,arr2)"
   ]
  },
  {
   "cell_type": "code",
   "execution_count": 19,
   "metadata": {},
   "outputs": [
    {
     "data": {
      "text/plain": [
       "matrix([[ 80, 112],\n",
       "        [200, 264],\n",
       "        [320, 416]])"
      ]
     },
     "execution_count": 19,
     "metadata": {},
     "output_type": "execute_result"
    }
   ],
   "source": [
    "#2. Write a Python Program to Multiply Two Matrices?\n",
    "def matmult(arr1,arr2):\n",
    "    return arr1*arr2\n",
    "arr1=np.mat([[1,2,3,4],[5,6,7,8],[9,10,11,12]])\n",
    "arr2=np.mat([[6,2],[7,11],[8,12],[9,13]])\n",
    "matmult(arr1,arr2)"
   ]
  },
  {
   "cell_type": "code",
   "execution_count": 20,
   "metadata": {},
   "outputs": [
    {
     "data": {
      "text/plain": [
       "matrix([[1, 7],\n",
       "        [5, 8],\n",
       "        [9, 1]])"
      ]
     },
     "execution_count": 20,
     "metadata": {},
     "output_type": "execute_result"
    }
   ],
   "source": [
    "#3. Write a Python Program to Transpose a Matrix?\n",
    "def matTranspose(mat):\n",
    "    return mat.T\n",
    "mat=np.mat([[1,5,9],[7,8,1]])\n",
    "matTranspose(mat)"
   ]
  },
  {
   "cell_type": "code",
   "execution_count": 26,
   "metadata": {},
   "outputs": [
    {
     "data": {
      "text/plain": [
       "['app', 'bap', 'gap', 'map', 'rap', 'slap', 'tap']"
      ]
     },
     "execution_count": 26,
     "metadata": {},
     "output_type": "execute_result"
    }
   ],
   "source": [
    "#4. Write a Python Program to Sort Words in Alphabetic Order?\n",
    "def sortwords(l):\n",
    "    l.sort()\n",
    "    return l\n",
    "l=['app','map','slap','bap','rap','gap','tap']\n",
    "sortwords(l)\n",
    "    \n"
   ]
  },
  {
   "cell_type": "code",
   "execution_count": 27,
   "metadata": {},
   "outputs": [
    {
     "name": "stdout",
     "output_type": "stream",
     "text": [
      "I am student  of    Ineuron\n"
     ]
    }
   ],
   "source": [
    "#5. Write a Python Program to Remove Punctuation From a String?\n",
    "def Punctuation(string):\n",
    "    punctuations='''!()-[]{};:'\"\\,<>./?@#$%^&*-~'''\n",
    "    for x in string.lower():\n",
    "        if x in punctuations:\n",
    "            string=string.replace(x,\"\")\n",
    "    print(string)\n",
    "string=\"I am @@@%student $??? of, ^ () % Ineuron!~\"\n",
    "Punctuation(string)"
   ]
  },
  {
   "cell_type": "code",
   "execution_count": null,
   "metadata": {},
   "outputs": [],
   "source": []
  }
 ],
 "metadata": {
  "kernelspec": {
   "display_name": "Python 3",
   "language": "python",
   "name": "python3"
  },
  "language_info": {
   "codemirror_mode": {
    "name": "ipython",
    "version": 3
   },
   "file_extension": ".py",
   "mimetype": "text/x-python",
   "name": "python",
   "nbconvert_exporter": "python",
   "pygments_lexer": "ipython3",
   "version": "3.8.5"
  }
 },
 "nbformat": 4,
 "nbformat_minor": 4
}
