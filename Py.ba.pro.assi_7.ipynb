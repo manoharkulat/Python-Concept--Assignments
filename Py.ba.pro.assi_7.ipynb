{
 "cells": [
  {
   "cell_type": "code",
   "execution_count": 1,
   "metadata": {},
   "outputs": [],
   "source": [
    "import numpy as np"
   ]
  },
  {
   "cell_type": "code",
   "execution_count": 4,
   "metadata": {},
   "outputs": [
    {
     "data": {
      "text/plain": [
       "33"
      ]
     },
     "execution_count": 4,
     "metadata": {},
     "output_type": "execute_result"
    }
   ],
   "source": [
    "#1. Write a Python Program to find sum of array?\n",
    "def _sum(arr):\n",
    "    sum=0\n",
    "    for i in arr:\n",
    "        sum=sum+i\n",
    "    return sum\n",
    "arr=np.array([1,2,4,5,6,7,8])\n",
    "_sum(arr)"
   ]
  },
  {
   "cell_type": "code",
   "execution_count": 6,
   "metadata": {},
   "outputs": [
    {
     "data": {
      "text/plain": [
       "18"
      ]
     },
     "execution_count": 6,
     "metadata": {},
     "output_type": "execute_result"
    }
   ],
   "source": [
    "#2. Write a Python Program to find largest element in an array?\n",
    "def _max(arr):\n",
    "    return arr.max()\n",
    "arr=np.array([1,12,14,18])\n",
    "_max(arr)"
   ]
  },
  {
   "cell_type": "code",
   "execution_count": 29,
   "metadata": {},
   "outputs": [
    {
     "name": "stdout",
     "output_type": "stream",
     "text": [
      "Array after left rotation is: [3, 4, 5, 6, 7, 1, 2]\n"
     ]
    }
   ],
   "source": [
    "#3. Write a Python Program for array rotation?\n",
    "def rotateArray(arr,n,d):\n",
    "    temp=[]\n",
    "    i=0\n",
    "    while (i<d):\n",
    "        temp.append(arr[i])\n",
    "        i=i+1\n",
    "    i=0\n",
    "    while (d<n):\n",
    "        arr[i]=arr[d]\n",
    "        i=i+1\n",
    "        d=d+1\n",
    "    arr[:]= arr[:i]+temp\n",
    "    return arr\n",
    "arr=[1,2,3,4,5,6,7]\n",
    "print('Array after left rotation is:', end=' ')\n",
    "print (rotateArray(arr,len(arr),2))"
   ]
  },
  {
   "cell_type": "code",
   "execution_count": 30,
   "metadata": {},
   "outputs": [
    {
     "data": {
      "text/plain": [
       "[3, 4, 5, 6, 7, 1, 2]"
      ]
     },
     "execution_count": 30,
     "metadata": {},
     "output_type": "execute_result"
    }
   ],
   "source": [
    "#3. Write a Python Program for array rotation?  OR\n",
    "def rotateleft(arr,n):\n",
    "    return arr[n:]+arr[:n]\n",
    "arr=[1,2,3,4,5,6,7]\n",
    "rotateleft(arr,2)"
   ]
  },
  {
   "cell_type": "code",
   "execution_count": 35,
   "metadata": {},
   "outputs": [
    {
     "data": {
      "text/plain": [
       "[6, 7, 8, 9, 10, 1, 2, 3, 4, 5]"
      ]
     },
     "execution_count": 35,
     "metadata": {},
     "output_type": "execute_result"
    }
   ],
   "source": [
    "#4. Write a Python Program to Split the array and add the first part to the end?\n",
    "def splitarr(arr,n):\n",
    "    return arr[n:]+arr[:n]\n",
    "arr=[1,2,3,4,5,6,7,8,9,10]\n",
    "splitarr(arr,5)"
   ]
  },
  {
   "cell_type": "code",
   "execution_count": 36,
   "metadata": {},
   "outputs": [
    {
     "name": "stdout",
     "output_type": "stream",
     "text": [
      "True\n"
     ]
    }
   ],
   "source": [
    "#5. Write a Python Program to check if given array is Monotonic?  #means values should either inc. or dec.\n",
    "def isMonotonic(A):\n",
    "    return (all(A[i]<=A[i+1] for i in range(len(A)-1)) or\n",
    "           all(A[i]>=A[i+1] for i in range(len(A)-1)))\n",
    "\n",
    "A=[10,8,7,6,4,3]\n",
    "print(isMonotonic(A))"
   ]
  },
  {
   "cell_type": "code",
   "execution_count": null,
   "metadata": {},
   "outputs": [],
   "source": []
  }
 ],
 "metadata": {
  "kernelspec": {
   "display_name": "Python 3",
   "language": "python",
   "name": "python3"
  },
  "language_info": {
   "codemirror_mode": {
    "name": "ipython",
    "version": 3
   },
   "file_extension": ".py",
   "mimetype": "text/x-python",
   "name": "python",
   "nbconvert_exporter": "python",
   "pygments_lexer": "ipython3",
   "version": "3.8.5"
  }
 },
 "nbformat": 4,
 "nbformat_minor": 4
}
