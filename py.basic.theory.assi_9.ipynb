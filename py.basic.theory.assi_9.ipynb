{
 "cells": [
  {
   "cell_type": "code",
   "execution_count": null,
   "metadata": {},
   "outputs": [],
   "source": [
    "#1. To what does a relative path refer?\n",
    "#Solution1:The relative path is the path to some files with respect to your current working directory(PWD).\n",
    "\n",
    "#2. What does an absolute path start with your operating system?\n",
    "#Solution2:an absolute path is a path that contains the entire path to the file or directory that you need to access.\n",
    "#This path will begin at the home directory of your computer and will end with the file or directory that you wish to\n",
    "#access.\n",
    "\n",
    "#3. What do the functions os.getcwd() and os.chdir() do?\n",
    "#Solution3: os.getcwd() function tells us the location of current working directory(CWD). \n",
    "#os.chdir() method in Python used to change the current working directory to specified path.\n",
    "\n",
    "#4. What are the . and .. folders?\n",
    "#The . is the current directory, while .. signifies the parect directory.\n",
    "\n",
    "\n",
    "#5. In C:\\bacon\\eggs\\spam.txt, which part is the dir name, and which part is the base name?\n",
    "#Solution5:C:\\bacon\\eggs\\ is the dir name, while spam.txt is the base name.\n",
    "\n",
    "#6. What are the three “mode” arguments that can be passed to the open() function?\n",
    "#Solution6: The string 'r' for read mode ,'w' for write mode, and 'a' for append mode.\n",
    "\n",
    "#7. What happens if an existing file is opened in write mode?\n",
    "#Solution7: An existing file opened in write mode is erased and completely overwritten.\n",
    "\n",
    "#8. How do you tell the difference between read() and readlines()?\n",
    "#Solution8: The read() method returns the file's entire contents as a single string value.The readlines() method returns a\n",
    "#list of strings, where each string is a line from the file's contents.\n",
    "\n",
    "\n",
    "#9. What data structure does a shelf value resemble?\n",
    "#Solution9: A shelf value resembles a dictionary value; it has keys and values, along with keys() and values() methods that\n",
    "#work similarly to the dictionary methods of the same names."
   ]
  }
 ],
 "metadata": {
  "kernelspec": {
   "display_name": "Python 3",
   "language": "python",
   "name": "python3"
  },
  "language_info": {
   "codemirror_mode": {
    "name": "ipython",
    "version": 3
   },
   "file_extension": ".py",
   "mimetype": "text/x-python",
   "name": "python",
   "nbconvert_exporter": "python",
   "pygments_lexer": "ipython3",
   "version": "3.8.5"
  }
 },
 "nbformat": 4,
 "nbformat_minor": 4
}
