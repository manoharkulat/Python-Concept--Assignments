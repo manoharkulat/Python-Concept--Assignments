{
 "cells": [
  {
   "cell_type": "code",
   "execution_count": 4,
   "metadata": {},
   "outputs": [
    {
     "name": "stdout",
     "output_type": "stream",
     "text": [
      "enter the value of km:3.5\n",
      "3.5 km is 2.174799172 miles\n"
     ]
    }
   ],
   "source": [
    "#1-Write a Python program to convert kilometers to miles?\n",
    "a=float(input(\"enter the value of km:\"))\n",
    "b=a*0.621371192\n",
    "print(\"{} km is {} miles\".format(a,b))"
   ]
  },
  {
   "cell_type": "code",
   "execution_count": 13,
   "metadata": {},
   "outputs": [
    {
     "name": "stdout",
     "output_type": "stream",
     "text": [
      "Enter the degree celsius value:60.5\n",
      "60.5 deg celsius equal to 140.9 deg F\n"
     ]
    }
   ],
   "source": [
    "#2-Write a Python program to convert Celsius to Fahrenheit?\n",
    "a=float(input(\"Enter the degree celsius value:\"))\n",
    "b=(a*(9/5))+32\n",
    "print(\"{} deg celsius equal to {} deg F\".format(a,b))\n"
   ]
  },
  {
   "cell_type": "code",
   "execution_count": 24,
   "metadata": {},
   "outputs": [
    {
     "name": "stdout",
     "output_type": "stream",
     "text": [
      "enter the year:2021\n",
      "enter the month:8\n",
      "    August 2021\n",
      "Mo Tu We Th Fr Sa Su\n",
      "                   1\n",
      " 2  3  4  5  6  7  8\n",
      " 9 10 11 12 13 14 15\n",
      "16 17 18 19 20 21 22\n",
      "23 24 25 26 27 28 29\n",
      "30 31\n",
      "\n"
     ]
    }
   ],
   "source": [
    "#3-Write a Python program to display calendar?\n",
    "import calendar\n",
    "yy=int(input(\"enter the year:\"))\n",
    "mm=int(input(\"enter the month:\"))\n",
    "print(calendar.month(yy,mm))"
   ]
  },
  {
   "cell_type": "code",
   "execution_count": 31,
   "metadata": {},
   "outputs": [
    {
     "name": "stdout",
     "output_type": "stream",
     "text": [
      "the roots are\n",
      "(-3.414213562373095+0j)\n",
      "(-0.5857864376269049+0j)\n"
     ]
    }
   ],
   "source": [
    "#4-Write a Python program to solve quadratic equation?\n",
    "#import complex math module\n",
    "import cmath\n",
    "a=1\n",
    "b=4\n",
    "c=2\n",
    "#calculating the discriminant\n",
    "dis=(b**2)-(4*a*c)\n",
    "#find two results\n",
    "ans1=(-b-cmath.sqrt(dis))/(2*a)\n",
    "ans2=(-b+cmath.sqrt(dis))/(2*a)\n",
    "print('the roots are')\n",
    "print(ans1)\n",
    "print(ans2)"
   ]
  },
  {
   "cell_type": "code",
   "execution_count": 33,
   "metadata": {},
   "outputs": [
    {
     "name": "stdout",
     "output_type": "stream",
     "text": [
      "After swapping:x= 5 y= 10\n"
     ]
    }
   ],
   "source": [
    "#5-Write a Python program to swap two variables without temp variable?\n",
    "x=10\n",
    "y=5\n",
    "# x becomes 15\n",
    "x=x+y\n",
    "#y becomes 10\n",
    "y=x-y\n",
    "# x becomes 5\n",
    "x=x-y\n",
    "print(\"After swapping:x=\",x,\"y=\",y)"
   ]
  },
  {
   "cell_type": "code",
   "execution_count": null,
   "metadata": {},
   "outputs": [],
   "source": []
  }
 ],
 "metadata": {
  "kernelspec": {
   "display_name": "Python 3",
   "language": "python",
   "name": "python3"
  },
  "language_info": {
   "codemirror_mode": {
    "name": "ipython",
    "version": 3
   },
   "file_extension": ".py",
   "mimetype": "text/x-python",
   "name": "python",
   "nbconvert_exporter": "python",
   "pygments_lexer": "ipython3",
   "version": "3.8.5"
  }
 },
 "nbformat": 4,
 "nbformat_minor": 4
}
