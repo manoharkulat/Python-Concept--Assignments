{
 "cells": [
  {
   "cell_type": "code",
   "execution_count": null,
   "metadata": {},
   "outputs": [],
   "source": [
    "\"\"\"Question 1:\n",
    "Define a class with a generator which can iterate the numbers, which are divisible by\n",
    "7, between a given range 0 and n.\"\"\""
   ]
  },
  {
   "cell_type": "code",
   "execution_count": 1,
   "metadata": {},
   "outputs": [],
   "source": [
    "#Solution:1\n",
    "class generator:\n",
    "    def test(n):\n",
    "        for i in range (n):\n",
    "            if i%7==0:\n",
    "                yield i\n",
    "            \n",
    "        "
   ]
  },
  {
   "cell_type": "code",
   "execution_count": 5,
   "metadata": {},
   "outputs": [
    {
     "name": "stdout",
     "output_type": "stream",
     "text": [
      "0\n",
      "7\n",
      "14\n",
      "21\n",
      "28\n",
      "35\n",
      "42\n",
      "49\n",
      "56\n",
      "63\n",
      "70\n",
      "77\n",
      "84\n",
      "91\n",
      "98\n"
     ]
    }
   ],
   "source": [
    "for i in generator.test(100):\n",
    "    print(i)"
   ]
  },
  {
   "cell_type": "code",
   "execution_count": null,
   "metadata": {},
   "outputs": [],
   "source": [
    "\"\"\"Question 2:\n",
    "Write a program to compute the frequency of the words from the input. The output\n",
    "should output after sorting the key alphanumerically.\"\"\""
   ]
  },
  {
   "cell_type": "code",
   "execution_count": 41,
   "metadata": {},
   "outputs": [
    {
     "name": "stdout",
     "output_type": "stream",
     "text": [
      "2 : 2\n",
      "3. : 1\n",
      "3? : 1\n",
      "New : 1\n",
      "Python : 5\n",
      "Read : 1\n",
      "and : 1\n",
      "between : 1\n",
      "choosing : 1\n",
      "or : 2\n",
      "to : 1\n"
     ]
    }
   ],
   "source": [
    "#Solution2:\n",
    "def freq(str):\n",
    "    str_list=str.split()\n",
    "    \n",
    "    unique_words=set(str_list)\n",
    "    for i in sorted(unique_words):\n",
    "        print(i ,':',str_list.count(i))\n",
    "freq(\"New to Python or choosing between Python 2 and Python 3? Read Python 2 or \"\n",
    "     \"Python 3.\")"
   ]
  },
  {
   "cell_type": "code",
   "execution_count": null,
   "metadata": {},
   "outputs": [],
   "source": [
    "'''Question 3 :\n",
    "Define a class Person and its two child classes: Male and Female. All classes have a\n",
    "method \"getGender\" which can print \"Male\" for Male class and \"Female\" for Female\n",
    "class.'''"
   ]
  },
  {
   "cell_type": "code",
   "execution_count": 70,
   "metadata": {},
   "outputs": [
    {
     "name": "stdout",
     "output_type": "stream",
     "text": [
      "male\n",
      "female\n"
     ]
    }
   ],
   "source": [
    "#Solution3:\n",
    "class Person:    \n",
    "    male=\"male\"\n",
    "    female=\"female\"\n",
    "class male(Person):            \n",
    "    def getGender(self):\n",
    "        return (self.male)\n",
    "\n",
    "class female(Person):\n",
    "    def getGender(self):\n",
    "        return (self.female)\n",
    "    \n",
    "t=male().getGender()\n",
    "f=female().getGender()\n",
    "print(t)\n",
    "print(f)"
   ]
  },
  {
   "cell_type": "code",
   "execution_count": null,
   "metadata": {},
   "outputs": [],
   "source": [
    "'''Question 4:\n",
    "Please write a program to generate all sentences where subject is in [\"I\", \"You\"] and\n",
    "verb is in [\"Play\", \"Love\"] and the object is in [\"Hockey\",\"Football\"].'''"
   ]
  },
  {
   "cell_type": "code",
   "execution_count": 75,
   "metadata": {},
   "outputs": [
    {
     "name": "stdout",
     "output_type": "stream",
     "text": [
      "I Play Hockey\n",
      "I Love Hockey\n",
      "I Play Football\n",
      "I Love Football\n",
      "You Play Hockey\n",
      "You Love Hockey\n",
      "You Play Football\n",
      "You Love Football\n"
     ]
    }
   ],
   "source": [
    "#Solution4:\n",
    "subject=[\"I\",\"You\"]\n",
    "verb=[\"Play\",\"Love\"]\n",
    "obj=[\"Hockey\",\"Football\"]\n",
    "sentence_list=[(sub+\" \"+vb+\" \"+ob) for sub in subject for ob in obj for vb in verb ]\n",
    "for i in sentence_list:\n",
    "    print(i)"
   ]
  },
  {
   "cell_type": "code",
   "execution_count": null,
   "metadata": {},
   "outputs": [],
   "source": [
    "'''Question 5:\n",
    "Please write a program to compress and decompress the string \"hello world!hello\n",
    "world!hello world!hello world!\".'''"
   ]
  },
  {
   "cell_type": "code",
   "execution_count": 82,
   "metadata": {},
   "outputs": [
    {
     "name": "stdout",
     "output_type": "stream",
     "text": [
      "before compression:  48\n",
      "after compressed : 35\n",
      "after decompression : 48\n"
     ]
    }
   ],
   "source": [
    "#Solution5:\n",
    "#to compress\n",
    "import gzip\n",
    "s=b\"hello world!hello world!hello world!hello world!\"\n",
    "print('before compression: ',len(s))\n",
    "t=gzip.compress(s)\n",
    "print('after compressed :',len(t))\n",
    "\n",
    "d=gzip.decompress(t)\n",
    "print('after decompression :',len(d))"
   ]
  },
  {
   "cell_type": "code",
   "execution_count": null,
   "metadata": {},
   "outputs": [],
   "source": [
    "\"\"\"Question 6:\n",
    "Please write a binary search function which searches an item in a sorted list. The\n",
    "function should return the index of element to be searched in the list.\"\"\""
   ]
  },
  {
   "cell_type": "code",
   "execution_count": 83,
   "metadata": {},
   "outputs": [
    {
     "name": "stdout",
     "output_type": "stream",
     "text": [
      "Element is present at index 3\n"
     ]
    }
   ],
   "source": [
    "#Solution6:\n",
    "def binary_search(ls,low,high,x):\n",
    "    if high>=low:\n",
    "        mid=(high+low)//2\n",
    "        if ls[mid]==x:\n",
    "            return mid\n",
    "        elif ls[mid]>x:\n",
    "            return binary_search(ls,low,mid-1,x)\n",
    "        else:\n",
    "            return binary_search(ls,mid+1,high,x)\n",
    "    else:\n",
    "        return -1\n",
    "ls=[2,3,4,10,40]\n",
    "x=10\n",
    "result=binary_search(ls,0,len(ls)-1,x)\n",
    "if result !=-1:\n",
    "    print(\"Element is present at index\",str(result))\n",
    "else:\n",
    "    print(\"Element is not present in list\")"
   ]
  },
  {
   "cell_type": "code",
   "execution_count": null,
   "metadata": {},
   "outputs": [],
   "source": []
  }
 ],
 "metadata": {
  "kernelspec": {
   "display_name": "Python 3",
   "language": "python",
   "name": "python3"
  },
  "language_info": {
   "codemirror_mode": {
    "name": "ipython",
    "version": 3
   },
   "file_extension": ".py",
   "mimetype": "text/x-python",
   "name": "python",
   "nbconvert_exporter": "python",
   "pygments_lexer": "ipython3",
   "version": "3.8.5"
  }
 },
 "nbformat": 4,
 "nbformat_minor": 4
}
