{
 "cells": [
  {
   "cell_type": "code",
   "execution_count": null,
   "metadata": {},
   "outputs": [],
   "source": [
    "#1. How do you distinguish between shutil.copy() and shutil.copytree()?\n",
    "#Solution1: shutil.copy() will copy a single file, shutil.copytree() will copy an entire folder and every folder and file \n",
    "#contained in it.\n",
    "\n",
    "#2. What function is used to rename files??\n",
    "#Solution2: os.rename() method in Python is used to rename a file or directory.\n",
    "\n",
    "#3. What is the difference between the delete functions in the send2trash and shutil modules?\n",
    "#Solution3:Using send2trash, we can send files to the Trash or Recycle Bin instead of permanentaly deleting them.\n",
    "#The OS modules's rmdir() function delete the files permanentaly.\n",
    "\n",
    "#4.ZipFile objects have a close() method just like File objects’ close() method. What ZipFile method is\n",
    "#equivalent to File objects’ open() method?\n",
    "#Solution4:to open zipfile method is as follows\n",
    "#with ZipFile(file_name,'r') as zip"
   ]
  },
  {
   "cell_type": "code",
   "execution_count": 10,
   "metadata": {},
   "outputs": [],
   "source": [
    "#5. Create a programme that searches a folder tree for files with a certain file extension (such as .pdf\n",
    "#or .jpg). Copy these files from whatever location they are in to a new folder.\n",
    "import shutil\n",
    "import os\n",
    "source_folder=('C:\\\\Users\\\\Rushikesh\\\\Downloads')\n",
    "destination_folder=('C:\\copy files')\n",
    "for folders,subfolders,filenames in os.walk(source_folder):\n",
    "    for filename in filenames:\n",
    "        if filename.endswith('.pdf'):\n",
    "            shutil.copy(os.path.join(folders,filename),destination_folder)"
   ]
  }
 ],
 "metadata": {
  "kernelspec": {
   "display_name": "Python 3",
   "language": "python",
   "name": "python3"
  },
  "language_info": {
   "codemirror_mode": {
    "name": "ipython",
    "version": 3
   },
   "file_extension": ".py",
   "mimetype": "text/x-python",
   "name": "python",
   "nbconvert_exporter": "python",
   "pygments_lexer": "ipython3",
   "version": "3.8.5"
  }
 },
 "nbformat": 4,
 "nbformat_minor": 4
}
