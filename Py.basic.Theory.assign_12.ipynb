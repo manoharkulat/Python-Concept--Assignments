{
 "cells": [
  {
   "cell_type": "code",
   "execution_count": 1,
   "metadata": {},
   "outputs": [],
   "source": [
    "#1. In what modes should the PdfFileReader() and PdfFileWriter() File objects will be opened?\n",
    "#Solution: To read Pdf file it need to open in read binary mode 'rb' and PdfFileWriter() need to be open in 'wb' writing\n",
    "# in binary mode."
   ]
  },
  {
   "cell_type": "code",
   "execution_count": 2,
   "metadata": {},
   "outputs": [],
   "source": [
    "#2. From a PdfFileReader object, how do you get a Page object for page 5?\n",
    "#Solution: Calling getPage(4) will return a Page object for About this Book, since page 0 is the first page."
   ]
  },
  {
   "cell_type": "code",
   "execution_count": 3,
   "metadata": {},
   "outputs": [],
   "source": [
    "#3. What PdfFileReader variable stores the number of pages in the PDF document?\n",
    "#Solution: The numPages variable stores an integer of the number of pages in the PdfFileReader object."
   ]
  },
  {
   "cell_type": "code",
   "execution_count": 4,
   "metadata": {},
   "outputs": [],
   "source": [
    "#4. If a PdfFileReader object’s PDF is encrypted with the password swordfish, what must you do\n",
    "#before you can obtain Page objects from it?\n",
    "#Solution: Call decrypt('swordfish')"
   ]
  },
  {
   "cell_type": "code",
   "execution_count": 5,
   "metadata": {},
   "outputs": [],
   "source": [
    "#5. What methods do you use to rotate a page?\n",
    "#Solution: The rotateClockwise() and rotateCounterClockwise() methods. The degress to rotate is passed as an integer \n",
    "#argument."
   ]
  },
  {
   "cell_type": "code",
   "execution_count": 6,
   "metadata": {},
   "outputs": [],
   "source": [
    "#6. What is the difference between a Run object and a Paragraph object?\n",
    "#Solution: A document contain multiple paragraphs. A paragraph begins on a new line and contain multiple runs. Runs are \n",
    "#contiguous groups of characters within a paragraph."
   ]
  },
  {
   "cell_type": "code",
   "execution_count": 7,
   "metadata": {},
   "outputs": [],
   "source": [
    "#7. How do you obtain a list of Paragraph objects for a Document object that’s stored in a variable\n",
    "#named doc?\n",
    "#Solution: Use doc.paragraphs."
   ]
  },
  {
   "cell_type": "code",
   "execution_count": 8,
   "metadata": {},
   "outputs": [],
   "source": [
    "#8. What type of object has bold, underline, italic, strike, and outline variables?\n",
    "#Solution: A Run object has these variables ."
   ]
  },
  {
   "cell_type": "code",
   "execution_count": 9,
   "metadata": {},
   "outputs": [],
   "source": [
    "#9. What is the difference between False, True, and None for the bold variable?\n",
    "#Solution: True always makes the Run object bolded and False makes it always not bolded, no matter what the style's bold\n",
    "#setting is. None will make the Run object just use the style's bold setting."
   ]
  },
  {
   "cell_type": "code",
   "execution_count": 10,
   "metadata": {},
   "outputs": [],
   "source": [
    "#10. How do you create a Document object for a new Word document?\n",
    "#Solution: Call the docx.Document() function."
   ]
  },
  {
   "cell_type": "code",
   "execution_count": 11,
   "metadata": {},
   "outputs": [],
   "source": [
    "#11. How do you add a paragraph with the text 'Hello, there!' to a Document object stored in a\n",
    "#variable named doc?\n",
    "#Solution: doc.add_paragraph('Hello there!')"
   ]
  },
  {
   "cell_type": "code",
   "execution_count": null,
   "metadata": {},
   "outputs": [],
   "source": [
    "#12. What integers represent the levels of headings available in Word documents?\n",
    "#Solution: The integers 0,1,2,3 and 4."
   ]
  }
 ],
 "metadata": {
  "kernelspec": {
   "display_name": "Python 3",
   "language": "python",
   "name": "python3"
  },
  "language_info": {
   "codemirror_mode": {
    "name": "ipython",
    "version": 3
   },
   "file_extension": ".py",
   "mimetype": "text/x-python",
   "name": "python",
   "nbconvert_exporter": "python",
   "pygments_lexer": "ipython3",
   "version": "3.8.5"
  }
 },
 "nbformat": 4,
 "nbformat_minor": 4
}
