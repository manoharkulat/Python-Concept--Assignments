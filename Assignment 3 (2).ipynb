{
 "cells": [
  {
   "cell_type": "code",
   "execution_count": 2,
   "metadata": {},
   "outputs": [
    {
     "ename": "SyntaxError",
     "evalue": "unmatched ')' (<ipython-input-2-9d3b2ad93c2b>, line 2)",
     "output_type": "error",
     "traceback": [
      "\u001b[1;36m  File \u001b[1;32m\"<ipython-input-2-9d3b2ad93c2b>\"\u001b[1;36m, line \u001b[1;32m2\u001b[0m\n\u001b[1;33m    solution1:1)Reducing duplication of code.\u001b[0m\n\u001b[1;37m               ^\u001b[0m\n\u001b[1;31mSyntaxError\u001b[0m\u001b[1;31m:\u001b[0m unmatched ')'\n"
     ]
    }
   ],
   "source": [
    "1. Why are functions advantageous to have in your programs?\n",
    "solution1:1) Reducing duplication of code.\n",
    "    2)Decomposing complex problems into simpler pieces.\n",
    "    3)Improving clarity of the code.\n",
    "    4)Reuse of code.\n",
    "    5)Information hiding.\n",
    "    \n",
    "2. When does the code in a function run: when it's specified or when it's called?\n",
    "Solution2: When a function is called the program leaves the current section of code and begins to execute the first line inside \n",
    "      the function..All instructions inside of the function are executed from top to bottom.The program leaves the function and \n",
    "        goes back to where it started from.\n",
    "\n",
    "3. What statement creates a function?\n",
    "Solution3:Def statement creates a function.You start a function with the def keyword, specify a name followed by a colon(:)\n",
    "    sign.example,def single_line(): statement.\n",
    "        \n",
    "4. What is the difference between a function and a function call?\n",
    "Solution4:A function is procedure to achieve a particular result while function call is using this function to achive that task.\n",
    "    \n",
    "5. How many global scopes are there in a Python program? How many local scopes?\n",
    "Solution5:There is only one global Python scope per program execution.This scope remain in existance until the program \n",
    "    terminates.Local scopes can only used inside function where variable is created inside a function.\n",
    "    \n",
    "6. What happens to variables in a local scope when the function call returns?\n",
    "Solution6: A local variable retain its value until the next time the function is called.A local variable becomes undefined after\n",
    "    the function call completes.The local variable can be used outside the function any time after the function call completes.\n",
    "    \n",
    "7. What is the concept of a return value? Is it possible to have a return value in an expression?\n",
    "Solution7: The python return ststement is a special statement that you can use inside function to send functions result back to \n",
    "the caller.A return statement consist of return keyword followed by an optional return value.The value of python function can be\n",
    "any python object.\n",
    "If you define a function with an explicit return statement that has explicit return value, then you can use that return value in \n",
    "any expression.\n",
    "\n",
    "8. If a function does not have a return statement, what is the return value of a call to that function?\n",
    "Solution8: A function without an explicit return statement returns None.In an if/then conditional statement,None evaluates \n",
    "to False.\n",
    "\n",
    "9. How do you make a function variable refer to the global variable?\n",
    "Solution9:To make  a function variable refer to the global variable you can use the global keyword to declare which variables\n",
    "are global.\n",
    "\n",
    "10. What is the data type of None?\n",
    "Solution10: None is a data type of its own (NoneType) and only None can be None.\n",
    "    \n",
    "11. What does the sentence import areallyourpetsnamederic do?\n",
    "Solution11: The import statement allows you to import one or more modules into your python program,letting you make use of the\n",
    "definitions constructed in those modules.\n",
    "    \n",
    "12. If you had a bacon() feature in a spam module, what would you call it after importing spam?\n",
    "Solution12: This function can be called with spam.bacon().\n",
    "    \n",
    "13. What can you do to save a programme from crashing if it encounters an error?\n",
    "Solution13: By placing this code in a try:....except:...block.\n",
    "            \n",
    "14. What is the purpose of the try clause? What is the purpose of the except clause?\n",
    "Solution14: The try and except block in python is used to catch and handle exceptions.Python executes code following the try\n",
    "statement as normal part of program.The code  that follows the except statement is the programs response to any exception in\n",
    " the preceding try clause.\n",
    "    "
   ]
  }
 ],
 "metadata": {
  "kernelspec": {
   "display_name": "Python 3",
   "language": "python",
   "name": "python3"
  },
  "language_info": {
   "codemirror_mode": {
    "name": "ipython",
    "version": 3
   },
   "file_extension": ".py",
   "mimetype": "text/x-python",
   "name": "python",
   "nbconvert_exporter": "python",
   "pygments_lexer": "ipython3",
   "version": "3.8.5"
  }
 },
 "nbformat": 4,
 "nbformat_minor": 4
}
