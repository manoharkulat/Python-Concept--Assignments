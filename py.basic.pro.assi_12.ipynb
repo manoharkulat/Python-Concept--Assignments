{
 "cells": [
  {
   "cell_type": "code",
   "execution_count": 13,
   "metadata": {},
   "outputs": [
    {
     "name": "stdout",
     "output_type": "stream",
     "text": [
      "apple\n",
      "ball\n",
      "cat\n",
      "[1, 2, 3, 4]\n",
      "(1, 8, 7, 8)\n"
     ]
    }
   ],
   "source": [
    "#1. Write a Python program to Extract Unique values dictionary values?\n",
    "d={'a':'apple','b':'ball','c':'cat','d':[1,2,3,4],12:(1,8,7,8)}\n",
    "for i in d:\n",
    "    v=d[i]\n",
    "    print(v)"
   ]
  },
  {
   "cell_type": "code",
   "execution_count": 14,
   "metadata": {},
   "outputs": [
    {
     "data": {
      "text/plain": [
       "600"
      ]
     },
     "execution_count": 14,
     "metadata": {},
     "output_type": "execute_result"
    }
   ],
   "source": [
    "#2. Write a Python program to find the sum of all items in a dictionary?\n",
    "my_dict={'a':100,'b':200,'c':300}\n",
    "def returnsum(dict):\n",
    "    sum=0\n",
    "    for i in dict:\n",
    "        sum=sum+dict[i]\n",
    "    return sum\n",
    "returnsum(my_dict)"
   ]
  },
  {
   "cell_type": "code",
   "execution_count": 17,
   "metadata": {},
   "outputs": [
    {
     "name": "stdout",
     "output_type": "stream",
     "text": [
      "{'x': 10, 'y': 8, 'a': 6, 'b': 4}\n"
     ]
    }
   ],
   "source": [
    "#3. Write a Python program to Merging two Dictionaries?\n",
    "def Merge(dict1,dict2):\n",
    "    res={**dict1, **dict2}\n",
    "    return res\n",
    "dict1={'x':10,'y':8}\n",
    "dict2={'a':6,'b':4}\n",
    "dict3=Merge(dict1,dict2)\n",
    "print(dict3)"
   ]
  },
  {
   "cell_type": "code",
   "execution_count": 23,
   "metadata": {},
   "outputs": [
    {
     "name": "stdout",
     "output_type": "stream",
     "text": [
      "the original dictionary is:{'month': [1, 2, 3], 'name': ['Jan', 'Feb', 'March']}\n",
      "Flattened dictionary is:{1: 'Jan', 2: 'Feb', 3: 'March'}\n"
     ]
    }
   ],
   "source": [
    "#4. Write a Python program to convert key-values list to flat dictionary?\n",
    "from itertools import product\n",
    "test_dict={'month':[1,2,3],'name':['Jan','Feb','March']}\n",
    "print(\"the original dictionary is:\"+str(test_dict))\n",
    "res=dict(zip(test_dict['month'],test_dict['name']))\n",
    "print(\"Flattened dictionary is:\"+str(res))"
   ]
  },
  {
   "cell_type": "code",
   "execution_count": 1,
   "metadata": {},
   "outputs": [
    {
     "name": "stdout",
     "output_type": "stream",
     "text": [
      "Resultant Dictionary:OrderedDict([('manjeet', '3'), ('akshat', '1'), ('nikhil', '2')])\n"
     ]
    }
   ],
   "source": [
    "#5. Write a Python program to insertion at the beginning in OrderedDict?\n",
    "from collections import OrderedDict\n",
    "iniordered_dict=OrderedDict([('akshat','1'),('nikhil','2')])\n",
    "iniordered_dict.update({'manjeet':'3'})\n",
    "iniordered_dict.move_to_end('manjeet',last=False)\n",
    "print(\"Resultant Dictionary:\"+str(iniordered_dict))\n"
   ]
  },
  {
   "cell_type": "code",
   "execution_count": 11,
   "metadata": {},
   "outputs": [
    {
     "name": "stdout",
     "output_type": "stream",
     "text": [
      "true\n"
     ]
    }
   ],
   "source": [
    "#6. Write a Python program to check order of character in string using OrderedDict()?\n",
    "from collections import OrderedDict\n",
    "def checkOrder(input,pattern):\n",
    "    dict=OrderedDict.fromkeys(input)\n",
    "    ptrlen=0\n",
    "    for key,value in dict.items():\n",
    "        if (key==pattern[ptrlen]):\n",
    "            ptrlen=ptrlen+1\n",
    "            if(ptrlen==(len(pattern))):\n",
    "                return 'true'\n",
    "    return 'false'\n",
    "input='engineers rock'\n",
    "pattern='egr'\n",
    "print(checkOrder(input,pattern))"
   ]
  },
  {
   "cell_type": "code",
   "execution_count": 10,
   "metadata": {},
   "outputs": [
    {
     "name": "stdout",
     "output_type": "stream",
     "text": [
      "odict_items([('e', None), ('n', None), ('g', None), ('i', None), ('r', None), ('s', None), (' ', None), ('o', None), ('c', None), ('k', None)])\n"
     ]
    }
   ],
   "source": [
    "dict=OrderedDict.fromkeys(\"engineers rock\")\n",
    "print(dict.items())"
   ]
  },
  {
   "cell_type": "code",
   "execution_count": 12,
   "metadata": {},
   "outputs": [
    {
     "name": "stdout",
     "output_type": "stream",
     "text": [
      "a:apple\n",
      "b:ball\n",
      "c:cat\n",
      "d:dog\n"
     ]
    }
   ],
   "source": [
    "#7. Write a Python program to sort Python Dictionaries by Key or Value?\n",
    "d={'a':'apple','b':'ball','c':'cat','d':'dog'}\n",
    "for key in sorted(d):\n",
    "    print('%s:%s'%(key,d[key]))"
   ]
  },
  {
   "cell_type": "code",
   "execution_count": null,
   "metadata": {},
   "outputs": [],
   "source": []
  }
 ],
 "metadata": {
  "kernelspec": {
   "display_name": "Python 3",
   "language": "python",
   "name": "python3"
  },
  "language_info": {
   "codemirror_mode": {
    "name": "ipython",
    "version": 3
   },
   "file_extension": ".py",
   "mimetype": "text/x-python",
   "name": "python",
   "nbconvert_exporter": "python",
   "pygments_lexer": "ipython3",
   "version": "3.8.5"
  }
 },
 "nbformat": 4,
 "nbformat_minor": 4
}
