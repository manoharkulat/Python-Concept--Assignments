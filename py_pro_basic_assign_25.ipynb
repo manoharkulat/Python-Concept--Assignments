{
 "cells": [
  {
   "cell_type": "code",
   "execution_count": null,
   "metadata": {},
   "outputs": [],
   "source": [
    "\"\"\"Question1\n",
    "Create a function that takes three integer arguments (a, b, c) and returns the amount of\n",
    "integers which are of equal value.\n",
    "Examples\n",
    "equal(3, 4, 3) ➞ 2\n",
    "equal(1, 1, 1) ➞ 3\n",
    "equal(3, 4, 1) ➞ 0\n",
    "Notes\n",
    "Your function must return 0, 2 or 3.\"\"\""
   ]
  },
  {
   "cell_type": "code",
   "execution_count": 21,
   "metadata": {},
   "outputs": [
    {
     "name": "stdout",
     "output_type": "stream",
     "text": [
      "2\n",
      "3\n",
      "0\n"
     ]
    }
   ],
   "source": [
    "#Solution1:\n",
    "def equal(a,b,c):\n",
    "    n=(a,b,c)\n",
    "    if n[0]==n[1] and n[0]==n[2]:\n",
    "        return 3\n",
    "    elif n[0]==n[1] or n[0]==n[2]:\n",
    "        return 2\n",
    "    elif n[1]==n[2]:\n",
    "        return 2\n",
    "    else:\n",
    "        return 0\n",
    "        \n",
    "        \n",
    "print(equal(3,3,1))\n",
    "print(equal(13,13,13))\n",
    "print(equal(7,4,9))"
   ]
  },
  {
   "cell_type": "code",
   "execution_count": null,
   "metadata": {},
   "outputs": [],
   "source": [
    "\"\"\"Question2\n",
    "Write a function that converts a dictionary into a list of keys-values tuples.\n",
    "Examples\n",
    "dict_to_list({\n",
    "\"D\": 1,\n",
    "\"B\": 2,\n",
    "\"C\": 3\n",
    "}) ➞ [(\"B\", 2), (\"C\", 3), (\"D\", 1)]\n",
    "dict_to_list({\n",
    "\"likes\": 2,\n",
    "\"dislikes\": 3,\n",
    "\"followers\": 10\n",
    "}) ➞ [(\"dislikes\", 3), (\"followers\", 10), (\"likes\", 2)]\n",
    "Notes\n",
    "Return the elements in the list in alphabetical order.\"\"\""
   ]
  },
  {
   "cell_type": "code",
   "execution_count": 32,
   "metadata": {},
   "outputs": [
    {
     "data": {
      "text/plain": [
       "[('apple', 4), ('pineapple', 3), ('strawberry', 5)]"
      ]
     },
     "execution_count": 32,
     "metadata": {},
     "output_type": "execute_result"
    }
   ],
   "source": [
    "#Solution2:\n",
    "def dict_to_list(d):\n",
    "    l=[]\n",
    "    for i in d.items():\n",
    "        l.append(i)\n",
    "        l.sort()\n",
    "    return l\n",
    "\n",
    "dict_to_list({\"apple\":4,\"strawberry\":5,\"pineapple\":3})"
   ]
  },
  {
   "cell_type": "code",
   "execution_count": null,
   "metadata": {},
   "outputs": [],
   "source": [
    "\"\"\"Question3\n",
    "Write a function that creates a dictionary with each (key, value) pair being the (lower case,\n",
    "upper case) versions of a letter, respectively.\n",
    "Examples\n",
    "mapping([\"p\", \"s\"]) ➞ { \"p\":\" P\", \"s\": \"S\" }\n",
    "\n",
    "Notes\n",
    "All of the letters in the input list will always be lowercase.\"\"\""
   ]
  },
  {
   "cell_type": "code",
   "execution_count": 41,
   "metadata": {},
   "outputs": [
    {
     "data": {
      "text/plain": [
       "{'p': 'P', 's': 'S', 'a': 'A', 'b': 'B', 'd': 'D'}"
      ]
     },
     "execution_count": 41,
     "metadata": {},
     "output_type": "execute_result"
    }
   ],
   "source": [
    "#Solution3:\n",
    "def mapping(l):\n",
    "    d={}\n",
    "    for i in l:\n",
    "        d[i]=i.capitalize()\n",
    "    return d\n",
    "\n",
    "mapping(['p','s','a','b','d'])"
   ]
  },
  {
   "cell_type": "code",
   "execution_count": null,
   "metadata": {},
   "outputs": [],
   "source": [
    "\"\"\"Question4\n",
    "Write a function, that replaces all vowels in a string with a specified vowel.\n",
    "Examples\n",
    "vow_replace(\"apples and bananas\", \"u\") ➞ \"upplus und bununus\"\n",
    "\n",
    "Notes\n",
    "All words will be lowercase. Y is not considered a vowel.\"\"\""
   ]
  },
  {
   "cell_type": "code",
   "execution_count": 70,
   "metadata": {},
   "outputs": [
    {
     "name": "stdout",
     "output_type": "stream",
     "text": [
      "chooso cossorolo\n",
      "upplus und bununus\n",
      "steffed jelepene peppers\n"
     ]
    }
   ],
   "source": [
    "#Solution4:\n",
    "def vow_replace(a,b):\n",
    "    n=(a,b)\n",
    "    st=n[0]\n",
    "    vowel=['a','e','i','o','u']\n",
    "    for i in vowel:\n",
    "        st=st.replace(i,n[1])\n",
    "    return st\n",
    "\n",
    "print(vow_replace(\"cheese casserole\", \"o\"))\n",
    "print(vow_replace(\"apples and bananas\",\"u\"))\n",
    "print(vow_replace(\"stuffed jalapeno poppers\",\"e\"))"
   ]
  },
  {
   "cell_type": "code",
   "execution_count": null,
   "metadata": {},
   "outputs": [],
   "source": [
    "\"\"\"Question5\n",
    "Create a function that takes a string as input and capitalizes a letter if its ASCII code is even\n",
    "and returns its lower case version if its ASCII code is odd.\n",
    "Examples\n",
    "ascii_capitalize(to be or not to be!) ➞ To Be oR NoT To Be!\"\"\""
   ]
  },
  {
   "cell_type": "code",
   "execution_count": 106,
   "metadata": {},
   "outputs": [
    {
     "name": "stdout",
     "output_type": "stream",
     "text": [
      "To Be oR NoT To Be!\n",
      "wHaT a woNDeRFuLL moRNiNg\n",
      "THe LiTTLe meRmaiD\n"
     ]
    }
   ],
   "source": [
    "#Solution5:\n",
    "def ascii_capitalize(st):\n",
    "    l=[]\n",
    "    for i in st:\n",
    "        if ord(i)%2==0:\n",
    "            l.append(i.upper())\n",
    "        else:\n",
    "            l.append(i.lower())\n",
    "    return ''.join(l)\n",
    "\n",
    "print(ascii_capitalize(\"to be or not to be!\"))\n",
    "print(ascii_capitalize('what a Wonderfull Morning'))\n",
    "print(ascii_capitalize('THE LITTLE MERMAID'))\n",
    "    "
   ]
  },
  {
   "cell_type": "code",
   "execution_count": null,
   "metadata": {},
   "outputs": [],
   "source": []
  },
  {
   "cell_type": "code",
   "execution_count": null,
   "metadata": {},
   "outputs": [],
   "source": []
  }
 ],
 "metadata": {
  "kernelspec": {
   "display_name": "Python 3",
   "language": "python",
   "name": "python3"
  },
  "language_info": {
   "codemirror_mode": {
    "name": "ipython",
    "version": 3
   },
   "file_extension": ".py",
   "mimetype": "text/x-python",
   "name": "python",
   "nbconvert_exporter": "python",
   "pygments_lexer": "ipython3",
   "version": "3.8.5"
  }
 },
 "nbformat": 4,
 "nbformat_minor": 4
}
