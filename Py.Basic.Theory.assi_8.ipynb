{
 "cells": [
  {
   "cell_type": "code",
   "execution_count": null,
   "metadata": {},
   "outputs": [],
   "source": [
    "#1. Is the Python Standard Library included with PyInputPlus?\n",
    "#Solution1: No , We have to install it.\n",
    "\n",
    "#2. Why is PyInputPlus commonly imported with import pyinputplus as pypi?\n",
    "#Solution2: PyInputPlus is a Python module used for taking inputs with additional validation features.PyInputPlus will keep\n",
    "#asking the user for text until they enter valid input.\n",
    "\n",
    "#3. How do you distinguish between inputInt() and inputFloat()?\n",
    "#Solution3:inputInt(): Accepts an integer value. This also takes additional parameters 'min','max','greaterThan' and \n",
    "#'LessThan' for bounds.Returns an int.\n",
    "#inputFloat(): Accepts a floating point numeric value.Also takes additional 'min','max','greaterThan' and 'LessThan' \n",
    "#parameters.Returns a float."
   ]
  },
  {
   "cell_type": "code",
   "execution_count": 3,
   "metadata": {},
   "outputs": [
    {
     "name": "stdout",
     "output_type": "stream",
     "text": [
      "Collecting PyInputPlusNote: you may need to restart the kernel to use updated packages.\n",
      "\n",
      "  Downloading PyInputPlus-0.2.12.tar.gz (20 kB)\n",
      "  Installing build dependencies: started\n",
      "  Installing build dependencies: finished with status 'done'\n",
      "  Getting requirements to build wheel: started\n",
      "  Getting requirements to build wheel: finished with status 'done'\n",
      "    Preparing wheel metadata: started\n",
      "    Preparing wheel metadata: finished with status 'done'\n",
      "Collecting pysimplevalidate>=0.2.7\n",
      "  Downloading PySimpleValidate-0.2.12.tar.gz (22 kB)\n",
      "  Installing build dependencies: started\n",
      "  Installing build dependencies: finished with status 'done'\n",
      "  Getting requirements to build wheel: started\n",
      "  Getting requirements to build wheel: finished with status 'done'\n",
      "    Preparing wheel metadata: started\n",
      "    Preparing wheel metadata: finished with status 'done'\n",
      "Collecting stdiomask>=0.0.3\n",
      "  Downloading stdiomask-0.0.6.tar.gz (3.6 kB)\n",
      "  Installing build dependencies: started\n",
      "  Installing build dependencies: finished with status 'done'\n",
      "  Getting requirements to build wheel: started\n",
      "  Getting requirements to build wheel: finished with status 'done'\n",
      "    Preparing wheel metadata: started\n",
      "    Preparing wheel metadata: finished with status 'done'\n",
      "Building wheels for collected packages: PyInputPlus, pysimplevalidate, stdiomask\n",
      "  Building wheel for PyInputPlus (PEP 517): started\n",
      "  Building wheel for PyInputPlus (PEP 517): finished with status 'done'\n",
      "  Created wheel for PyInputPlus: filename=PyInputPlus-0.2.12-py3-none-any.whl size=11315 sha256=24d92f50f9520c9d9b3197e1f0e2f13aa4ab1a970b48af8ac719533a13147207\n",
      "  Stored in directory: c:\\users\\rushikesh\\appdata\\local\\pip\\cache\\wheels\\b9\\b4\\e7\\825446929f44b25d05f4df52bc4f7d211e5dec4c547126a098\n",
      "  Building wheel for pysimplevalidate (PEP 517): started\n",
      "  Building wheel for pysimplevalidate (PEP 517): finished with status 'done'\n",
      "  Created wheel for pysimplevalidate: filename=PySimpleValidate-0.2.12-py3-none-any.whl size=16192 sha256=f2f8a8c2f42ac5c5b21c1abe1d12bfeae4c946c9b0b584eb670757ce6ffad243\n",
      "  Stored in directory: c:\\users\\rushikesh\\appdata\\local\\pip\\cache\\wheels\\bd\\d4\\a5\\a003719238ab12962e430310093e567ab7d29bc3bfe062b14c\n",
      "  Building wheel for stdiomask (PEP 517): started\n",
      "  Building wheel for stdiomask (PEP 517): finished with status 'done'\n",
      "  Created wheel for stdiomask: filename=stdiomask-0.0.6-py3-none-any.whl size=3320 sha256=ece8408c9b5498d8d9817a700f3d9c0f3976745c0f6228d9b03a50c7fbc9f7d8\n",
      "  Stored in directory: c:\\users\\rushikesh\\appdata\\local\\pip\\cache\\wheels\\c1\\e9\\4e\\bcdfc282cffe91bb88e951ad9a05fb166ed6460bbe3c6dc02b\n",
      "Successfully built PyInputPlus pysimplevalidate stdiomask\n",
      "Installing collected packages: pysimplevalidate, stdiomask, PyInputPlus\n",
      "Successfully installed PyInputPlus-0.2.12 pysimplevalidate-0.2.12 stdiomask-0.0.6\n"
     ]
    }
   ],
   "source": [
    "pip install PyInputPlus"
   ]
  },
  {
   "cell_type": "code",
   "execution_count": 5,
   "metadata": {},
   "outputs": [
    {
     "name": "stdout",
     "output_type": "stream",
     "text": [
      "Enter whole no.100\n",
      "Number must be at maximum 99.\n",
      "Enter whole no.99\n",
      "99\n"
     ]
    }
   ],
   "source": [
    "#4. Using PyInputPlus, how do you ensure that the user enters a whole number between 0 and 99?\n",
    "#Solution:\n",
    "import pyinputplus as pyip\n",
    "response=pyip.inputInt(prompt='Enter whole no.',min=0,max=99)\n",
    "print(response)"
   ]
  },
  {
   "cell_type": "code",
   "execution_count": null,
   "metadata": {},
   "outputs": [],
   "source": [
    "#5. What is transferred to the keyword arguments allowRegexes and blockRegexes?\n",
    "#Solution5:The allowRegexes and blockRegexes keyword arguments take a list of regular expression strings to determine \n",
    "# what the PyInputPlus function will accept or reject as valid input."
   ]
  },
  {
   "cell_type": "code",
   "execution_count": 6,
   "metadata": {},
   "outputs": [
    {
     "name": "stdout",
     "output_type": "stream",
     "text": [
      "\n",
      "Blank values are not allowed.\n",
      "\n",
      "Blank values are not allowed.\n",
      "\n",
      "Blank values are not allowed.\n",
      "hello\n"
     ]
    }
   ],
   "source": [
    "#6. If a blank input is entered three times, what does inputStr(limit=3) do?\n",
    "#Solution_6:limit keyword argument will cause the function to raise a RetryLimitException.\n",
    "\n",
    "#7. If blank input is entered three times, what does inputStr(limit=3, default=\"hello\") do?\n",
    "#Solution_7:\n",
    "response=pyip.inputStr(limit=3,default=\"hello\")\n",
    "print(response)"
   ]
  },
  {
   "cell_type": "code",
   "execution_count": null,
   "metadata": {},
   "outputs": [],
   "source": []
  }
 ],
 "metadata": {
  "kernelspec": {
   "display_name": "Python 3",
   "language": "python",
   "name": "python3"
  },
  "language_info": {
   "codemirror_mode": {
    "name": "ipython",
    "version": 3
   },
   "file_extension": ".py",
   "mimetype": "text/x-python",
   "name": "python",
   "nbconvert_exporter": "python",
   "pygments_lexer": "ipython3",
   "version": "3.8.5"
  }
 },
 "nbformat": 4,
 "nbformat_minor": 4
}
