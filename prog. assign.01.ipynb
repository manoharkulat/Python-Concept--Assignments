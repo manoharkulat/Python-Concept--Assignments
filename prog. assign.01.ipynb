{
 "cells": [
  {
   "cell_type": "code",
   "execution_count": 6,
   "metadata": {},
   "outputs": [
    {
     "name": "stdout",
     "output_type": "stream",
     "text": [
      "enter number between 0 to 5:5\n",
      "Hello Python\n"
     ]
    }
   ],
   "source": [
    "#1.\tWrite a Python program to print \"Hello Python\"?\n",
    "I=int(input(\"enter number between 0 to 5:\"))\n",
    "if I>=0 and I<=5:\n",
    "    print(\"Hello Python\")\n",
    "else:\n",
    "    print(\"number is out of range\")"
   ]
  },
  {
   "cell_type": "code",
   "execution_count": 12,
   "metadata": {},
   "outputs": [
    {
     "name": "stdout",
     "output_type": "stream",
     "text": [
      "Enter any number1:45\n",
      "Enter any number2 except 0:45\n",
      "addition of two no. : 90\n",
      "division of two no.: 1.0\n"
     ]
    }
   ],
   "source": [
    "#2.\tWrite a Python program to do arithmetical operations addition and division.?\n",
    "in1=int(input(\"Enter any number1:\"))\n",
    "in2=int(input(\"Enter any number2 except 0:\"))\n",
    "O1=in1+in2\n",
    "O2=in1/in2\n",
    "print(\"addition of two no. :\",O1)\n",
    "print(\"division of two no.:\",O2)"
   ]
  },
  {
   "cell_type": "code",
   "execution_count": 15,
   "metadata": {},
   "outputs": [
    {
     "name": "stdout",
     "output_type": "stream",
     "text": [
      "enter the base length of triangle :5\n",
      "enter the height lenght of triangle :5\n",
      "Area of triangle is:  12.5\n"
     ]
    }
   ],
   "source": [
    "#3.\tWrite a Python program to find the area of a triangle?\n",
    "B=int(input(\"enter the base length of triangle :\"))\n",
    "H=int(input(\"enter the height lenght of triangle :\"))\n",
    "print(\"Area of triangle is: \",(B*H)/2)"
   ]
  },
  {
   "cell_type": "code",
   "execution_count": 16,
   "metadata": {},
   "outputs": [
    {
     "name": "stdout",
     "output_type": "stream",
     "text": [
      "Value of x: 60\n",
      "value of y: 50\n"
     ]
    }
   ],
   "source": [
    "#4.\tWrite a Python program to swap two variables?\n",
    "x=50\n",
    "y=60\n",
    "x,y=y,x\n",
    "print(\"Value of x:\",x)\n",
    "print(\"value of y:\",y)"
   ]
  },
  {
   "cell_type": "code",
   "execution_count": 1,
   "metadata": {},
   "outputs": [
    {
     "name": "stdout",
     "output_type": "stream",
     "text": [
      "enter start no.:1\n",
      "enter last no. :10\n",
      "5\n"
     ]
    }
   ],
   "source": [
    "#5.\tWrite a Python program to generate a random number?\n",
    "import random\n",
    "i1=int(input(\"enter start no.:\"))\n",
    "i2=int(input(\"enter last no. :\"))\n",
    "print(random.randint(i1,i2))"
   ]
  },
  {
   "cell_type": "code",
   "execution_count": null,
   "metadata": {},
   "outputs": [],
   "source": []
  }
 ],
 "metadata": {
  "kernelspec": {
   "display_name": "Python 3",
   "language": "python",
   "name": "python3"
  },
  "language_info": {
   "codemirror_mode": {
    "name": "ipython",
    "version": 3
   },
   "file_extension": ".py",
   "mimetype": "text/x-python",
   "name": "python",
   "nbconvert_exporter": "python",
   "pygments_lexer": "ipython3",
   "version": "3.8.5"
  }
 },
 "nbformat": 4,
 "nbformat_minor": 4
}
