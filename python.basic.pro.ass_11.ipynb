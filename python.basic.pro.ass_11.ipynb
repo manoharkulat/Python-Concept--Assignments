{
 "cells": [
  {
   "cell_type": "code",
   "execution_count": 19,
   "metadata": {},
   "outputs": [
    {
     "data": {
      "text/plain": [
       "['Hello', 'first', 'python', 'programe', 'jupyter', 'notebook']"
      ]
     },
     "execution_count": 19,
     "metadata": {},
     "output_type": "execute_result"
    }
   ],
   "source": [
    "#1. Write a Python program to find words which are greater than given length k?\n",
    "str=\"Hello this is my first python programe in jupyter notebook\"\n",
    "def greaterw(str,k):\n",
    "    string=[]\n",
    "    l=str.split(\" \")\n",
    "    for i in l:\n",
    "        if len(i)>k:\n",
    "            string.append(i)\n",
    "    return(string)\n",
    "greaterw(str,4)\n",
    "    "
   ]
  },
  {
   "cell_type": "code",
   "execution_count": 32,
   "metadata": {},
   "outputs": [
    {
     "data": {
      "text/plain": [
       "'Hello word'"
      ]
     },
     "execution_count": 32,
     "metadata": {},
     "output_type": "execute_result"
    }
   ],
   "source": [
    "#2. Write a Python program for removing i-th character from a string?\n",
    "str=\"Hello world\"\n",
    "def remove(string,i):\n",
    "    a=string[ :i]\n",
    "    b=string[i+1: ]\n",
    "    return a+b\n",
    "remove(str,9)"
   ]
  },
  {
   "cell_type": "code",
   "execution_count": 34,
   "metadata": {},
   "outputs": [
    {
     "name": "stdout",
     "output_type": "stream",
     "text": [
      "['Hello', 'in', 'the', 'world', 'of', 'python']\n",
      "Hello-in-the-world-of-python\n"
     ]
    }
   ],
   "source": [
    "#3. Write a Python program to split and join a string?\n",
    "str=\"Hello in the world of python\"\n",
    "def split_string(string):\n",
    "    list_string=string.split(\" \")\n",
    "    return list_string\n",
    "def join_string(list_string):\n",
    "    string='-'.join(list_string)\n",
    "    return string\n",
    "list_string=split_string(str)\n",
    "print(list_string)\n",
    "string=join_string(list_string)\n",
    "print(string)\n",
    "    \n",
    "    \n"
   ]
  },
  {
   "cell_type": "code",
   "execution_count": 35,
   "metadata": {},
   "outputs": [
    {
     "name": "stdout",
     "output_type": "stream",
     "text": [
      "yes\n"
     ]
    }
   ],
   "source": [
    "#4. Write a Python to check if a given string is binary string or not?\n",
    "def check(string):\n",
    "    p=set(string)\n",
    "    s={'0','1'}\n",
    "    if s==p or p=={'0'} or p=={'1'}:\n",
    "        print(\"yes\")\n",
    "    else:\n",
    "        print(\"No\")\n",
    "check(\"01011010101111000\")"
   ]
  },
  {
   "cell_type": "code",
   "execution_count": 43,
   "metadata": {},
   "outputs": [
    {
     "name": "stdout",
     "output_type": "stream",
     "text": [
      " apple fruits\n"
     ]
    }
   ],
   "source": [
    "#5. Write a Python program to find uncommon words from two Strings?\n",
    "def uncommon(a,b):\n",
    "    list_a=a.split()\n",
    "    list_b=b.split()\n",
    "    uc=''\n",
    "    for i in list_a:\n",
    "        if i not in list_b:\n",
    "            uc=uc+\" \"+i\n",
    "        for j in list_b:\n",
    "            if j not in list_a:\n",
    "                uc=uc+\" \"+j\n",
    "        return uc\n",
    "a=\"apple banana mango\"\n",
    "b=\"banana fruits mango\"\n",
    "print(uncommon(a,b))\n",
    "    "
   ]
  },
  {
   "cell_type": "code",
   "execution_count": 55,
   "metadata": {},
   "outputs": [
    {
     "data": {
      "text/plain": [
       "['a', 'p', ' ', 'n']"
      ]
     },
     "execution_count": 55,
     "metadata": {},
     "output_type": "execute_result"
    }
   ],
   "source": [
    "#6. Write a Python to find all duplicate characters in string?\n",
    "def duplicate(str):\n",
    "    dup=[]\n",
    "    for char in str:\n",
    "        if str.count(char)>1:\n",
    "            if char not in dup:\n",
    "                dup.append(char)\n",
    "    return dup\n",
    "a=\"apple banana mango\"\n",
    "duplicate(a)\n",
    "\n",
    "            "
   ]
  },
  {
   "cell_type": "code",
   "execution_count": 66,
   "metadata": {},
   "outputs": [
    {
     "name": "stdout",
     "output_type": "stream",
     "text": [
      "String is not accepted\n"
     ]
    }
   ],
   "source": [
    "#7. Write a Python Program to check if a string contains any special character?\n",
    "import re\n",
    "def run(string):\n",
    "    regex=re.compile('[@_!#$%^&*()<>?/\\|}{~:]')\n",
    "    if (regex.search(string)==None):\n",
    "        print(\"String is accepted\")\n",
    "    else:\n",
    "        print(\"String is not accepted\")\n",
    "S=\"AIfori$ne&)_uron\"\n",
    "run(S)\n",
    "    "
   ]
  },
  {
   "cell_type": "code",
   "execution_count": null,
   "metadata": {},
   "outputs": [],
   "source": []
  }
 ],
 "metadata": {
  "kernelspec": {
   "display_name": "Python 3",
   "language": "python",
   "name": "python3"
  },
  "language_info": {
   "codemirror_mode": {
    "name": "ipython",
    "version": 3
   },
   "file_extension": ".py",
   "mimetype": "text/x-python",
   "name": "python",
   "nbconvert_exporter": "python",
   "pygments_lexer": "ipython3",
   "version": "3.8.5"
  }
 },
 "nbformat": 4,
 "nbformat_minor": 4
}
