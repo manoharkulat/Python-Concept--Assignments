{
 "cells": [
  {
   "cell_type": "code",
   "execution_count": null,
   "metadata": {},
   "outputs": [],
   "source": [
    "\"\"\"Question 1\n",
    "Create a function that takes a number as an argument and returns True or False depending\n",
    "on whether the number is symmetrical or not. A number is symmetrical when it is the same as\n",
    "its reverse.\n",
    "Examples\n",
    "is_symmetrical(7227) ➞ True\n",
    "is_symmetrical(12567) ➞ False\n",
    "is_symmetrical(44444444) ➞ True\n",
    "is_symmetrical(9939) ➞ False\n",
    "is_symmetrical(1112111) ➞ True\"\"\""
   ]
  },
  {
   "cell_type": "code",
   "execution_count": 26,
   "metadata": {},
   "outputs": [
    {
     "data": {
      "text/plain": [
       "True"
      ]
     },
     "execution_count": 26,
     "metadata": {},
     "output_type": "execute_result"
    }
   ],
   "source": [
    "#Solution1:\n",
    "def is_symmetrical(n):\n",
    "    if str(n)==str(n)[::-1]:\n",
    "        return True\n",
    "    else:\n",
    "        return False\n",
    "\n",
    "is_symmetrical(5115)\n",
    "    "
   ]
  },
  {
   "cell_type": "code",
   "execution_count": null,
   "metadata": {},
   "outputs": [],
   "source": [
    "\"\"\"Question 2\n",
    "Given a string of numbers separated by a comma and space, return the product of the\n",
    "numbers.\n",
    "Examples\n",
    "multiply_nums(\"2, 3\") ➞ 6\n",
    "multiply_nums(\"1, 2, 3, 4\") ➞ 24\n",
    "multiply_nums(\"54, 75, 453, 0\") ➞ 0\n",
    "multiply_nums(\"10, -2\") ➞ -20\"\"\""
   ]
  },
  {
   "cell_type": "code",
   "execution_count": 63,
   "metadata": {},
   "outputs": [
    {
     "data": {
      "text/plain": [
       "120"
      ]
     },
     "execution_count": 63,
     "metadata": {},
     "output_type": "execute_result"
    }
   ],
   "source": [
    "#Solution2:\n",
    "def multiply_nums(st):\n",
    "    l=[]\n",
    "    m=st.split(',')\n",
    "    for i in m:\n",
    "        d=int(i)\n",
    "        l.append(d)\n",
    "    count=0\n",
    "    p=1\n",
    "    while count<len(l):\n",
    "        p*=l[count]\n",
    "        count+=1\n",
    "    return p\n",
    "multiply_nums(\"1,2,3,4,5\")\n",
    "    \n",
    "    "
   ]
  },
  {
   "cell_type": "code",
   "execution_count": null,
   "metadata": {},
   "outputs": [],
   "source": [
    "\"\"\"Question 3\n",
    "Create a function that squares every digit of a number.\n",
    "Examples\n",
    "square_digits(9119) ➞ 811181\n",
    "square_digits(2483) ➞ 416649\n",
    "square_digits(3212) ➞ 9414\n",
    "Notes\n",
    "The function receives an integer and must return an integer.\"\"\""
   ]
  },
  {
   "cell_type": "code",
   "execution_count": 42,
   "metadata": {},
   "outputs": [
    {
     "data": {
      "text/plain": [
       "414925"
      ]
     },
     "execution_count": 42,
     "metadata": {},
     "output_type": "execute_result"
    }
   ],
   "source": [
    "#Solution3:\n",
    "def square_digits(n):\n",
    "    m=str(n)\n",
    "    j=','.join(m)\n",
    "    s=j.split(',')\n",
    "    l=[]\n",
    "    for i in s:\n",
    "        d=int(i)\n",
    "        l.append(d)\n",
    "    lc=[i**2 for i in l]\n",
    "    st=''.join([str(i) for i in lc])\n",
    "    return int(st)\n",
    "\n",
    "\n",
    "square_digits(21235)"
   ]
  },
  {
   "cell_type": "code",
   "execution_count": null,
   "metadata": {},
   "outputs": [],
   "source": [
    "\"\"\"Question 4\n",
    "Create a function that sorts a list and removes all duplicate items from it.\n",
    "Examples\n",
    "setify([1, 3, 3, 5, 5]) ➞ [1, 3, 5]\n",
    "setify([4, 4, 4, 4]) ➞ [4]\n",
    "setify([5, 7, 8, 9, 10, 15]) ➞ [5, 7, 8, 9, 10, 15]\n",
    "setify([3, 3, 3, 2, 1]) ➞ [1, 2, 3]\"\"\""
   ]
  },
  {
   "cell_type": "code",
   "execution_count": 55,
   "metadata": {},
   "outputs": [
    {
     "data": {
      "text/plain": [
       "[1, 1.55, 1.89, 2.8, 3, 5]"
      ]
     },
     "execution_count": 55,
     "metadata": {},
     "output_type": "execute_result"
    }
   ],
   "source": [
    "#Solution 4:\n",
    "def setify(l):\n",
    "    s=set(l)\n",
    "    l2=list(s)\n",
    "    l2.sort()\n",
    "    return l2\n",
    "\n",
    "setify([1, 3, 3, 5, 5,2.8,2.8,1.55,1.55,1.89])"
   ]
  },
  {
   "cell_type": "code",
   "execution_count": null,
   "metadata": {},
   "outputs": [],
   "source": [
    "\"\"\"Question 5\n",
    "Create a function that returns the mean of all digits.\n",
    "Examples\n",
    "mean(42) ➞ 3\n",
    "mean(12345) ➞ 3\n",
    "mean(666) ➞ 6\n",
    "Notes\n",
    " The mean of all digits is the sum of digits / how many digits there are (e.g. mean of digits in\n",
    "512 is (5+1+2)/3(number of digits) = 8/3=2).\n",
    " The mean will always be an integer.\"\"\""
   ]
  },
  {
   "cell_type": "code",
   "execution_count": 75,
   "metadata": {},
   "outputs": [
    {
     "data": {
      "text/plain": [
       "6"
      ]
     },
     "execution_count": 75,
     "metadata": {},
     "output_type": "execute_result"
    }
   ],
   "source": [
    "#Solution 5:\n",
    "def mean(n):\n",
    "    s=','.join(str(n))\n",
    "    p=s.split(',')\n",
    "    l=[]\n",
    "    for i in p:\n",
    "        d=int(i)\n",
    "        l.append(d)\n",
    "    return round((sum(l)/len(l)))\n",
    "\n",
    "mean(666)"
   ]
  },
  {
   "cell_type": "code",
   "execution_count": null,
   "metadata": {},
   "outputs": [],
   "source": []
  }
 ],
 "metadata": {
  "kernelspec": {
   "display_name": "Python 3",
   "language": "python",
   "name": "python3"
  },
  "language_info": {
   "codemirror_mode": {
    "name": "ipython",
    "version": 3
   },
   "file_extension": ".py",
   "mimetype": "text/x-python",
   "name": "python",
   "nbconvert_exporter": "python",
   "pygments_lexer": "ipython3",
   "version": "3.8.5"
  }
 },
 "nbformat": 4,
 "nbformat_minor": 4
}
