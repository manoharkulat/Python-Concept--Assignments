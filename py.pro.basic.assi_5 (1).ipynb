{
 "cells": [
  {
   "cell_type": "code",
   "execution_count": 14,
   "metadata": {},
   "outputs": [
    {
     "name": "stdout",
     "output_type": "stream",
     "text": [
      "enter first number: 8\n",
      "enter 2nd number: 7\n",
      "the L.C.M of 8 and 7 is 56\n"
     ]
    }
   ],
   "source": [
    "#1.\tWrite a Python Program to Find LCM?\n",
    "def lcm(x,y):\n",
    "    if x>y:\n",
    "        greater=x\n",
    "    else:\n",
    "        greater=y\n",
    "    while(True):\n",
    "        if((greater%x==0) and (greater%y==0)):\n",
    "            lcm=greater\n",
    "            break\n",
    "        greater+=1\n",
    "    return lcm\n",
    "num1=int(input('enter first number: '))\n",
    "num2=int(input('enter 2nd number: '))\n",
    "print('the L.C.M of',num1,'and',num2,'is',lcm(num1,num2))\n",
    "    "
   ]
  },
  {
   "cell_type": "code",
   "execution_count": 19,
   "metadata": {},
   "outputs": [
    {
     "name": "stdout",
     "output_type": "stream",
     "text": [
      "enter 1st no: 40\n",
      "enter 2nd no: 120\n",
      "the H.C.F of 40 and 120 is 40\n"
     ]
    }
   ],
   "source": [
    "#2.\tWrite a Python Program to Find HCF?\n",
    "def hcf(x,y):\n",
    "    i=1\n",
    "    while i<=x and i<=y:\n",
    "        if ((x%i==0) and (y%i==0)):\n",
    "            hcf=i\n",
    "        i+=1\n",
    "    return hcf\n",
    "num1=int(input('enter 1st no: '))\n",
    "num2=int(input('enter 2nd no: '))\n",
    "print('the H.C.F of',num1,'and',num2,'is',hcf(num1,num2))\n",
    "    "
   ]
  },
  {
   "cell_type": "code",
   "execution_count": 23,
   "metadata": {},
   "outputs": [
    {
     "name": "stdout",
     "output_type": "stream",
     "text": [
      "enter the number: 5\n",
      "the decimal value of 5 is:\n",
      "0b101 in binary.\n",
      "0o5 in octal.\n",
      "0x5 in hexadecimal.\n"
     ]
    }
   ],
   "source": [
    "#3.\tWrite a Python Program to Convert Decimal to Binary, Octal and Hexadecimal?\n",
    "deci=int(input('enter the number: '))\n",
    "print('the decimal value of',deci,'is:')\n",
    "print(bin(deci),'in binary.')\n",
    "print(oct(deci),'in octal.')\n",
    "print(hex(deci),'in hexadecimal.')"
   ]
  },
  {
   "cell_type": "code",
   "execution_count": 41,
   "metadata": {},
   "outputs": [
    {
     "name": "stdout",
     "output_type": "stream",
     "text": [
      "Enter the character: A\n",
      "the ascii value of A is 65\n"
     ]
    }
   ],
   "source": [
    "#4.\tWrite a Python Program To Find ASCII value of a character?\n",
    "i=input('Enter the character: ')\n",
    "print(\"the ascii value of\",i,\"is\",ord(i))"
   ]
  },
  {
   "cell_type": "code",
   "execution_count": 52,
   "metadata": {},
   "outputs": [
    {
     "name": "stdout",
     "output_type": "stream",
     "text": [
      "enter 1st no: 14\n",
      "enter operator: *\n",
      "enter 2nd no: 5\n",
      "70\n"
     ]
    }
   ],
   "source": [
    "#5.\tWrite a Python Program to Make a Simple Calculator with 4 basic mathematical operations?\n",
    "num1=int(input('enter 1st no: '))\n",
    "op=input('enter operator: ')\n",
    "num2=int(input('enter 2nd no: '))\n",
    "if op=='*':\n",
    "    print(num1*num2)\n",
    "elif op=='+':\n",
    "    print(num1+num2)\n",
    "elif op=='-':\n",
    "    print(num1-num2)\n",
    "elif op=='/':\n",
    "    print(num1/num2)\n",
    "else:\n",
    "    print('invalid input')"
   ]
  },
  {
   "cell_type": "code",
   "execution_count": null,
   "metadata": {},
   "outputs": [],
   "source": []
  }
 ],
 "metadata": {
  "kernelspec": {
   "display_name": "Python 3",
   "language": "python",
   "name": "python3"
  },
  "language_info": {
   "codemirror_mode": {
    "name": "ipython",
    "version": 3
   },
   "file_extension": ".py",
   "mimetype": "text/x-python",
   "name": "python",
   "nbconvert_exporter": "python",
   "pygments_lexer": "ipython3",
   "version": "3.8.5"
  }
 },
 "nbformat": 4,
 "nbformat_minor": 4
}
